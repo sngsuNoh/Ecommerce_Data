{
 "cells": [
  {
   "cell_type": "markdown",
   "metadata": {},
   "source": [
    "# 프로모션 효율 예측\n",
    "## Random Forest"
   ]
  },
  {
   "cell_type": "markdown",
   "metadata": {},
   "source": [
    "고객 데이터와 거래 데이터를 함께 활용하여  \n",
    "프로모션에 대한 고객의 반응 여부를 예측한다."
   ]
  },
  {
   "cell_type": "markdown",
   "metadata": {},
   "source": [
    "## 모듈 및 데이터 로드"
   ]
  },
  {
   "cell_type": "code",
   "execution_count": 1,
   "metadata": {},
   "outputs": [],
   "source": [
    "import pandas as pd\n",
    "import numpy as np\n",
    "import matplotlib.pyplot as plt\n",
    "import seaborn as sns"
   ]
  },
  {
   "cell_type": "code",
   "execution_count": 2,
   "metadata": {},
   "outputs": [],
   "source": [
    "member = pd.read_csv('member.csv')\n",
    "transaction = pd.read_csv('transaction.csv')"
   ]
  },
  {
   "cell_type": "code",
   "execution_count": 3,
   "metadata": {},
   "outputs": [
    {
     "data": {
      "text/html": [
       "<div>\n",
       "<style scoped>\n",
       "    .dataframe tbody tr th:only-of-type {\n",
       "        vertical-align: middle;\n",
       "    }\n",
       "\n",
       "    .dataframe tbody tr th {\n",
       "        vertical-align: top;\n",
       "    }\n",
       "\n",
       "    .dataframe thead th {\n",
       "        text-align: right;\n",
       "    }\n",
       "</style>\n",
       "<table border=\"1\" class=\"dataframe\">\n",
       "  <thead>\n",
       "    <tr style=\"text-align: right;\">\n",
       "      <th></th>\n",
       "      <th>id</th>\n",
       "      <th>recency</th>\n",
       "      <th>zip_code</th>\n",
       "      <th>is_referral</th>\n",
       "      <th>channel</th>\n",
       "      <th>conversion</th>\n",
       "    </tr>\n",
       "  </thead>\n",
       "  <tbody>\n",
       "    <tr>\n",
       "      <th>0</th>\n",
       "      <td>906145</td>\n",
       "      <td>10</td>\n",
       "      <td>Surburban</td>\n",
       "      <td>0</td>\n",
       "      <td>Phone</td>\n",
       "      <td>0</td>\n",
       "    </tr>\n",
       "    <tr>\n",
       "      <th>1</th>\n",
       "      <td>184478</td>\n",
       "      <td>6</td>\n",
       "      <td>Rural</td>\n",
       "      <td>1</td>\n",
       "      <td>Web</td>\n",
       "      <td>0</td>\n",
       "    </tr>\n",
       "    <tr>\n",
       "      <th>2</th>\n",
       "      <td>394235</td>\n",
       "      <td>7</td>\n",
       "      <td>Surburban</td>\n",
       "      <td>1</td>\n",
       "      <td>Web</td>\n",
       "      <td>0</td>\n",
       "    </tr>\n",
       "    <tr>\n",
       "      <th>3</th>\n",
       "      <td>130152</td>\n",
       "      <td>9</td>\n",
       "      <td>Rural</td>\n",
       "      <td>1</td>\n",
       "      <td>Web</td>\n",
       "      <td>0</td>\n",
       "    </tr>\n",
       "    <tr>\n",
       "      <th>4</th>\n",
       "      <td>940352</td>\n",
       "      <td>2</td>\n",
       "      <td>Urban</td>\n",
       "      <td>0</td>\n",
       "      <td>Web</td>\n",
       "      <td>0</td>\n",
       "    </tr>\n",
       "  </tbody>\n",
       "</table>\n",
       "</div>"
      ],
      "text/plain": [
       "       id  recency   zip_code  is_referral channel  conversion\n",
       "0  906145       10  Surburban            0   Phone           0\n",
       "1  184478        6      Rural            1     Web           0\n",
       "2  394235        7  Surburban            1     Web           0\n",
       "3  130152        9      Rural            1     Web           0\n",
       "4  940352        2      Urban            0     Web           0"
      ]
     },
     "execution_count": 3,
     "metadata": {},
     "output_type": "execute_result"
    }
   ],
   "source": [
    "member.head()"
   ]
  },
  {
   "cell_type": "code",
   "execution_count": 4,
   "metadata": {},
   "outputs": [
    {
     "name": "stdout",
     "output_type": "stream",
     "text": [
      "<class 'pandas.core.frame.DataFrame'>\n",
      "RangeIndex: 64000 entries, 0 to 63999\n",
      "Data columns (total 6 columns):\n",
      " #   Column       Non-Null Count  Dtype \n",
      "---  ------       --------------  ----- \n",
      " 0   id           64000 non-null  int64 \n",
      " 1   recency      64000 non-null  int64 \n",
      " 2   zip_code     64000 non-null  object\n",
      " 3   is_referral  64000 non-null  int64 \n",
      " 4   channel      64000 non-null  object\n",
      " 5   conversion   64000 non-null  int64 \n",
      "dtypes: int64(4), object(2)\n",
      "memory usage: 2.9+ MB\n"
     ]
    }
   ],
   "source": [
    "member.info()"
   ]
  },
  {
   "cell_type": "code",
   "execution_count": 5,
   "metadata": {},
   "outputs": [
    {
     "data": {
      "text/html": [
       "<div>\n",
       "<style scoped>\n",
       "    .dataframe tbody tr th:only-of-type {\n",
       "        vertical-align: middle;\n",
       "    }\n",
       "\n",
       "    .dataframe tbody tr th {\n",
       "        vertical-align: top;\n",
       "    }\n",
       "\n",
       "    .dataframe thead th {\n",
       "        text-align: right;\n",
       "    }\n",
       "</style>\n",
       "<table border=\"1\" class=\"dataframe\">\n",
       "  <thead>\n",
       "    <tr style=\"text-align: right;\">\n",
       "      <th></th>\n",
       "      <th>id</th>\n",
       "      <th>recency</th>\n",
       "      <th>is_referral</th>\n",
       "      <th>conversion</th>\n",
       "    </tr>\n",
       "  </thead>\n",
       "  <tbody>\n",
       "    <tr>\n",
       "      <th>count</th>\n",
       "      <td>64000.000000</td>\n",
       "      <td>64000.000000</td>\n",
       "      <td>64000.000000</td>\n",
       "      <td>64000.000000</td>\n",
       "    </tr>\n",
       "    <tr>\n",
       "      <th>mean</th>\n",
       "      <td>550694.137797</td>\n",
       "      <td>5.763734</td>\n",
       "      <td>0.502250</td>\n",
       "      <td>0.146781</td>\n",
       "    </tr>\n",
       "    <tr>\n",
       "      <th>std</th>\n",
       "      <td>259105.689773</td>\n",
       "      <td>3.507592</td>\n",
       "      <td>0.499999</td>\n",
       "      <td>0.353890</td>\n",
       "    </tr>\n",
       "    <tr>\n",
       "      <th>min</th>\n",
       "      <td>100001.000000</td>\n",
       "      <td>1.000000</td>\n",
       "      <td>0.000000</td>\n",
       "      <td>0.000000</td>\n",
       "    </tr>\n",
       "    <tr>\n",
       "      <th>25%</th>\n",
       "      <td>326772.000000</td>\n",
       "      <td>2.000000</td>\n",
       "      <td>0.000000</td>\n",
       "      <td>0.000000</td>\n",
       "    </tr>\n",
       "    <tr>\n",
       "      <th>50%</th>\n",
       "      <td>551300.000000</td>\n",
       "      <td>6.000000</td>\n",
       "      <td>1.000000</td>\n",
       "      <td>0.000000</td>\n",
       "    </tr>\n",
       "    <tr>\n",
       "      <th>75%</th>\n",
       "      <td>774914.500000</td>\n",
       "      <td>9.000000</td>\n",
       "      <td>1.000000</td>\n",
       "      <td>0.000000</td>\n",
       "    </tr>\n",
       "    <tr>\n",
       "      <th>max</th>\n",
       "      <td>999997.000000</td>\n",
       "      <td>12.000000</td>\n",
       "      <td>1.000000</td>\n",
       "      <td>1.000000</td>\n",
       "    </tr>\n",
       "  </tbody>\n",
       "</table>\n",
       "</div>"
      ],
      "text/plain": [
       "                  id       recency   is_referral    conversion\n",
       "count   64000.000000  64000.000000  64000.000000  64000.000000\n",
       "mean   550694.137797      5.763734      0.502250      0.146781\n",
       "std    259105.689773      3.507592      0.499999      0.353890\n",
       "min    100001.000000      1.000000      0.000000      0.000000\n",
       "25%    326772.000000      2.000000      0.000000      0.000000\n",
       "50%    551300.000000      6.000000      1.000000      0.000000\n",
       "75%    774914.500000      9.000000      1.000000      0.000000\n",
       "max    999997.000000     12.000000      1.000000      1.000000"
      ]
     },
     "execution_count": 5,
     "metadata": {},
     "output_type": "execute_result"
    }
   ],
   "source": [
    "member.describe()"
   ]
  },
  {
   "cell_type": "code",
   "execution_count": 6,
   "metadata": {},
   "outputs": [
    {
     "data": {
      "text/html": [
       "<div>\n",
       "<style scoped>\n",
       "    .dataframe tbody tr th:only-of-type {\n",
       "        vertical-align: middle;\n",
       "    }\n",
       "\n",
       "    .dataframe tbody tr th {\n",
       "        vertical-align: top;\n",
       "    }\n",
       "\n",
       "    .dataframe thead th {\n",
       "        text-align: right;\n",
       "    }\n",
       "</style>\n",
       "<table border=\"1\" class=\"dataframe\">\n",
       "  <thead>\n",
       "    <tr style=\"text-align: right;\">\n",
       "      <th></th>\n",
       "      <th>id</th>\n",
       "      <th>num_item</th>\n",
       "      <th>total_amount</th>\n",
       "    </tr>\n",
       "  </thead>\n",
       "  <tbody>\n",
       "    <tr>\n",
       "      <th>0</th>\n",
       "      <td>906145</td>\n",
       "      <td>5</td>\n",
       "      <td>34000</td>\n",
       "    </tr>\n",
       "    <tr>\n",
       "      <th>1</th>\n",
       "      <td>906145</td>\n",
       "      <td>1</td>\n",
       "      <td>27000</td>\n",
       "    </tr>\n",
       "    <tr>\n",
       "      <th>2</th>\n",
       "      <td>906145</td>\n",
       "      <td>4</td>\n",
       "      <td>33000</td>\n",
       "    </tr>\n",
       "    <tr>\n",
       "      <th>3</th>\n",
       "      <td>184478</td>\n",
       "      <td>4</td>\n",
       "      <td>29000</td>\n",
       "    </tr>\n",
       "    <tr>\n",
       "      <th>4</th>\n",
       "      <td>394235</td>\n",
       "      <td>4</td>\n",
       "      <td>33000</td>\n",
       "    </tr>\n",
       "  </tbody>\n",
       "</table>\n",
       "</div>"
      ],
      "text/plain": [
       "       id  num_item  total_amount\n",
       "0  906145         5         34000\n",
       "1  906145         1         27000\n",
       "2  906145         4         33000\n",
       "3  184478         4         29000\n",
       "4  394235         4         33000"
      ]
     },
     "execution_count": 6,
     "metadata": {},
     "output_type": "execute_result"
    }
   ],
   "source": [
    "transaction.head()"
   ]
  },
  {
   "cell_type": "code",
   "execution_count": 7,
   "metadata": {},
   "outputs": [
    {
     "name": "stdout",
     "output_type": "stream",
     "text": [
      "<class 'pandas.core.frame.DataFrame'>\n",
      "RangeIndex: 196836 entries, 0 to 196835\n",
      "Data columns (total 3 columns):\n",
      " #   Column        Non-Null Count   Dtype\n",
      "---  ------        --------------   -----\n",
      " 0   id            196836 non-null  int64\n",
      " 1   num_item      196836 non-null  int64\n",
      " 2   total_amount  196836 non-null  int64\n",
      "dtypes: int64(3)\n",
      "memory usage: 4.5 MB\n"
     ]
    }
   ],
   "source": [
    "transaction.info()"
   ]
  },
  {
   "cell_type": "code",
   "execution_count": 8,
   "metadata": {},
   "outputs": [
    {
     "data": {
      "text/html": [
       "<div>\n",
       "<style scoped>\n",
       "    .dataframe tbody tr th:only-of-type {\n",
       "        vertical-align: middle;\n",
       "    }\n",
       "\n",
       "    .dataframe tbody tr th {\n",
       "        vertical-align: top;\n",
       "    }\n",
       "\n",
       "    .dataframe thead th {\n",
       "        text-align: right;\n",
       "    }\n",
       "</style>\n",
       "<table border=\"1\" class=\"dataframe\">\n",
       "  <thead>\n",
       "    <tr style=\"text-align: right;\">\n",
       "      <th></th>\n",
       "      <th>id</th>\n",
       "      <th>num_item</th>\n",
       "      <th>total_amount</th>\n",
       "    </tr>\n",
       "  </thead>\n",
       "  <tbody>\n",
       "    <tr>\n",
       "      <th>count</th>\n",
       "      <td>196836.000000</td>\n",
       "      <td>196836.000000</td>\n",
       "      <td>196836.000000</td>\n",
       "    </tr>\n",
       "    <tr>\n",
       "      <th>mean</th>\n",
       "      <td>550557.552932</td>\n",
       "      <td>3.078365</td>\n",
       "      <td>21837.102969</td>\n",
       "    </tr>\n",
       "    <tr>\n",
       "      <th>std</th>\n",
       "      <td>259254.795613</td>\n",
       "      <td>1.478408</td>\n",
       "      <td>8218.005565</td>\n",
       "    </tr>\n",
       "    <tr>\n",
       "      <th>min</th>\n",
       "      <td>100001.000000</td>\n",
       "      <td>1.000000</td>\n",
       "      <td>8000.000000</td>\n",
       "    </tr>\n",
       "    <tr>\n",
       "      <th>25%</th>\n",
       "      <td>326719.000000</td>\n",
       "      <td>2.000000</td>\n",
       "      <td>15000.000000</td>\n",
       "    </tr>\n",
       "    <tr>\n",
       "      <th>50%</th>\n",
       "      <td>550918.000000</td>\n",
       "      <td>3.000000</td>\n",
       "      <td>22000.000000</td>\n",
       "    </tr>\n",
       "    <tr>\n",
       "      <th>75%</th>\n",
       "      <td>774916.000000</td>\n",
       "      <td>4.000000</td>\n",
       "      <td>29000.000000</td>\n",
       "    </tr>\n",
       "    <tr>\n",
       "      <th>max</th>\n",
       "      <td>999997.000000</td>\n",
       "      <td>6.000000</td>\n",
       "      <td>38000.000000</td>\n",
       "    </tr>\n",
       "  </tbody>\n",
       "</table>\n",
       "</div>"
      ],
      "text/plain": [
       "                  id       num_item   total_amount\n",
       "count  196836.000000  196836.000000  196836.000000\n",
       "mean   550557.552932       3.078365   21837.102969\n",
       "std    259254.795613       1.478408    8218.005565\n",
       "min    100001.000000       1.000000    8000.000000\n",
       "25%    326719.000000       2.000000   15000.000000\n",
       "50%    550918.000000       3.000000   22000.000000\n",
       "75%    774916.000000       4.000000   29000.000000\n",
       "max    999997.000000       6.000000   38000.000000"
      ]
     },
     "execution_count": 8,
     "metadata": {},
     "output_type": "execute_result"
    }
   ],
   "source": [
    "transaction.describe()"
   ]
  },
  {
   "cell_type": "markdown",
   "metadata": {},
   "source": [
    "###### 결측치가 하나도 없는 예쁜 데이터임을 확인\n",
    "###### member.id = transaction.id를 기준으로 join하기 위해 준비해 보자"
   ]
  },
  {
   "cell_type": "code",
   "execution_count": 9,
   "metadata": {},
   "outputs": [
    {
     "data": {
      "text/html": [
       "<div>\n",
       "<style scoped>\n",
       "    .dataframe tbody tr th:only-of-type {\n",
       "        vertical-align: middle;\n",
       "    }\n",
       "\n",
       "    .dataframe tbody tr th {\n",
       "        vertical-align: top;\n",
       "    }\n",
       "\n",
       "    .dataframe thead th {\n",
       "        text-align: right;\n",
       "    }\n",
       "</style>\n",
       "<table border=\"1\" class=\"dataframe\">\n",
       "  <thead>\n",
       "    <tr style=\"text-align: right;\">\n",
       "      <th></th>\n",
       "      <th>id</th>\n",
       "      <th>num_item</th>\n",
       "      <th>total_amount</th>\n",
       "      <th>avg_price</th>\n",
       "    </tr>\n",
       "  </thead>\n",
       "  <tbody>\n",
       "    <tr>\n",
       "      <th>0</th>\n",
       "      <td>906145</td>\n",
       "      <td>5</td>\n",
       "      <td>34000</td>\n",
       "      <td>6800.0</td>\n",
       "    </tr>\n",
       "    <tr>\n",
       "      <th>1</th>\n",
       "      <td>906145</td>\n",
       "      <td>1</td>\n",
       "      <td>27000</td>\n",
       "      <td>27000.0</td>\n",
       "    </tr>\n",
       "  </tbody>\n",
       "</table>\n",
       "</div>"
      ],
      "text/plain": [
       "       id  num_item  total_amount  avg_price\n",
       "0  906145         5         34000     6800.0\n",
       "1  906145         1         27000    27000.0"
      ]
     },
     "execution_count": 9,
     "metadata": {},
     "output_type": "execute_result"
    }
   ],
   "source": [
    "# 거래 데이터에 아이템별 평균 가격 추가\n",
    "transaction['avg_price'] = transaction['total_amount'] / transaction['num_item']\n",
    "transaction.head(2)"
   ]
  },
  {
   "cell_type": "code",
   "execution_count": 10,
   "metadata": {},
   "outputs": [
    {
     "data": {
      "text/html": [
       "<div>\n",
       "<style scoped>\n",
       "    .dataframe tbody tr th:only-of-type {\n",
       "        vertical-align: middle;\n",
       "    }\n",
       "\n",
       "    .dataframe tbody tr th {\n",
       "        vertical-align: top;\n",
       "    }\n",
       "\n",
       "    .dataframe thead th {\n",
       "        text-align: right;\n",
       "    }\n",
       "</style>\n",
       "<table border=\"1\" class=\"dataframe\">\n",
       "  <thead>\n",
       "    <tr style=\"text-align: right;\">\n",
       "      <th></th>\n",
       "      <th>num_item</th>\n",
       "      <th>total_amount</th>\n",
       "      <th>avg_price</th>\n",
       "      <th>count</th>\n",
       "    </tr>\n",
       "    <tr>\n",
       "      <th>id</th>\n",
       "      <th></th>\n",
       "      <th></th>\n",
       "      <th></th>\n",
       "      <th></th>\n",
       "    </tr>\n",
       "  </thead>\n",
       "  <tbody>\n",
       "    <tr>\n",
       "      <th>100001</th>\n",
       "      <td>3.500000</td>\n",
       "      <td>26000.000000</td>\n",
       "      <td>7500.000000</td>\n",
       "      <td>2</td>\n",
       "    </tr>\n",
       "    <tr>\n",
       "      <th>100008</th>\n",
       "      <td>5.000000</td>\n",
       "      <td>26000.000000</td>\n",
       "      <td>5200.000000</td>\n",
       "      <td>1</td>\n",
       "    </tr>\n",
       "    <tr>\n",
       "      <th>100032</th>\n",
       "      <td>2.666667</td>\n",
       "      <td>20666.666667</td>\n",
       "      <td>9366.666667</td>\n",
       "      <td>3</td>\n",
       "    </tr>\n",
       "    <tr>\n",
       "      <th>100036</th>\n",
       "      <td>3.000000</td>\n",
       "      <td>25800.000000</td>\n",
       "      <td>13273.333333</td>\n",
       "      <td>5</td>\n",
       "    </tr>\n",
       "    <tr>\n",
       "      <th>100070</th>\n",
       "      <td>3.250000</td>\n",
       "      <td>21250.000000</td>\n",
       "      <td>8537.500000</td>\n",
       "      <td>4</td>\n",
       "    </tr>\n",
       "    <tr>\n",
       "      <th>...</th>\n",
       "      <td>...</td>\n",
       "      <td>...</td>\n",
       "      <td>...</td>\n",
       "      <td>...</td>\n",
       "    </tr>\n",
       "    <tr>\n",
       "      <th>999932</th>\n",
       "      <td>5.000000</td>\n",
       "      <td>32000.000000</td>\n",
       "      <td>6400.000000</td>\n",
       "      <td>1</td>\n",
       "    </tr>\n",
       "    <tr>\n",
       "      <th>999981</th>\n",
       "      <td>2.000000</td>\n",
       "      <td>22750.000000</td>\n",
       "      <td>12875.000000</td>\n",
       "      <td>4</td>\n",
       "    </tr>\n",
       "    <tr>\n",
       "      <th>999990</th>\n",
       "      <td>3.000000</td>\n",
       "      <td>28000.000000</td>\n",
       "      <td>10388.888889</td>\n",
       "      <td>3</td>\n",
       "    </tr>\n",
       "    <tr>\n",
       "      <th>999995</th>\n",
       "      <td>2.000000</td>\n",
       "      <td>27000.000000</td>\n",
       "      <td>13500.000000</td>\n",
       "      <td>1</td>\n",
       "    </tr>\n",
       "    <tr>\n",
       "      <th>999997</th>\n",
       "      <td>2.000000</td>\n",
       "      <td>13000.000000</td>\n",
       "      <td>6500.000000</td>\n",
       "      <td>1</td>\n",
       "    </tr>\n",
       "  </tbody>\n",
       "</table>\n",
       "<p>64000 rows × 4 columns</p>\n",
       "</div>"
      ],
      "text/plain": [
       "        num_item  total_amount     avg_price  count\n",
       "id                                                 \n",
       "100001  3.500000  26000.000000   7500.000000      2\n",
       "100008  5.000000  26000.000000   5200.000000      1\n",
       "100032  2.666667  20666.666667   9366.666667      3\n",
       "100036  3.000000  25800.000000  13273.333333      5\n",
       "100070  3.250000  21250.000000   8537.500000      4\n",
       "...          ...           ...           ...    ...\n",
       "999932  5.000000  32000.000000   6400.000000      1\n",
       "999981  2.000000  22750.000000  12875.000000      4\n",
       "999990  3.000000  28000.000000  10388.888889      3\n",
       "999995  2.000000  27000.000000  13500.000000      1\n",
       "999997  2.000000  13000.000000   6500.000000      1\n",
       "\n",
       "[64000 rows x 4 columns]"
      ]
     },
     "execution_count": 10,
     "metadata": {},
     "output_type": "execute_result"
    }
   ],
   "source": [
    "tran_mean = transaction.groupby('id').mean()\n",
    "tran_cnt = transaction['id'].value_counts()\n",
    "tran = pd.concat([tran_mean, tran_cnt], axis=1)\n",
    "tran"
   ]
  },
  {
   "cell_type": "code",
   "execution_count": 11,
   "metadata": {},
   "outputs": [
    {
     "data": {
      "text/html": [
       "<div>\n",
       "<style scoped>\n",
       "    .dataframe tbody tr th:only-of-type {\n",
       "        vertical-align: middle;\n",
       "    }\n",
       "\n",
       "    .dataframe tbody tr th {\n",
       "        vertical-align: top;\n",
       "    }\n",
       "\n",
       "    .dataframe thead th {\n",
       "        text-align: right;\n",
       "    }\n",
       "</style>\n",
       "<table border=\"1\" class=\"dataframe\">\n",
       "  <thead>\n",
       "    <tr style=\"text-align: right;\">\n",
       "      <th></th>\n",
       "      <th>recency</th>\n",
       "      <th>zip_code</th>\n",
       "      <th>is_referral</th>\n",
       "      <th>channel</th>\n",
       "      <th>conversion</th>\n",
       "    </tr>\n",
       "    <tr>\n",
       "      <th>id</th>\n",
       "      <th></th>\n",
       "      <th></th>\n",
       "      <th></th>\n",
       "      <th></th>\n",
       "      <th></th>\n",
       "    </tr>\n",
       "  </thead>\n",
       "  <tbody>\n",
       "    <tr>\n",
       "      <th>906145</th>\n",
       "      <td>10</td>\n",
       "      <td>Surburban</td>\n",
       "      <td>0</td>\n",
       "      <td>Phone</td>\n",
       "      <td>0</td>\n",
       "    </tr>\n",
       "    <tr>\n",
       "      <th>184478</th>\n",
       "      <td>6</td>\n",
       "      <td>Rural</td>\n",
       "      <td>1</td>\n",
       "      <td>Web</td>\n",
       "      <td>0</td>\n",
       "    </tr>\n",
       "    <tr>\n",
       "      <th>394235</th>\n",
       "      <td>7</td>\n",
       "      <td>Surburban</td>\n",
       "      <td>1</td>\n",
       "      <td>Web</td>\n",
       "      <td>0</td>\n",
       "    </tr>\n",
       "    <tr>\n",
       "      <th>130152</th>\n",
       "      <td>9</td>\n",
       "      <td>Rural</td>\n",
       "      <td>1</td>\n",
       "      <td>Web</td>\n",
       "      <td>0</td>\n",
       "    </tr>\n",
       "    <tr>\n",
       "      <th>940352</th>\n",
       "      <td>2</td>\n",
       "      <td>Urban</td>\n",
       "      <td>0</td>\n",
       "      <td>Web</td>\n",
       "      <td>0</td>\n",
       "    </tr>\n",
       "    <tr>\n",
       "      <th>...</th>\n",
       "      <td>...</td>\n",
       "      <td>...</td>\n",
       "      <td>...</td>\n",
       "      <td>...</td>\n",
       "      <td>...</td>\n",
       "    </tr>\n",
       "    <tr>\n",
       "      <th>838295</th>\n",
       "      <td>10</td>\n",
       "      <td>Urban</td>\n",
       "      <td>0</td>\n",
       "      <td>Web</td>\n",
       "      <td>0</td>\n",
       "    </tr>\n",
       "    <tr>\n",
       "      <th>547316</th>\n",
       "      <td>5</td>\n",
       "      <td>Urban</td>\n",
       "      <td>1</td>\n",
       "      <td>Phone</td>\n",
       "      <td>0</td>\n",
       "    </tr>\n",
       "    <tr>\n",
       "      <th>131575</th>\n",
       "      <td>6</td>\n",
       "      <td>Urban</td>\n",
       "      <td>1</td>\n",
       "      <td>Phone</td>\n",
       "      <td>0</td>\n",
       "    </tr>\n",
       "    <tr>\n",
       "      <th>603659</th>\n",
       "      <td>1</td>\n",
       "      <td>Surburban</td>\n",
       "      <td>1</td>\n",
       "      <td>Multichannel</td>\n",
       "      <td>0</td>\n",
       "    </tr>\n",
       "    <tr>\n",
       "      <th>254229</th>\n",
       "      <td>1</td>\n",
       "      <td>Surburban</td>\n",
       "      <td>0</td>\n",
       "      <td>Web</td>\n",
       "      <td>0</td>\n",
       "    </tr>\n",
       "  </tbody>\n",
       "</table>\n",
       "<p>64000 rows × 5 columns</p>\n",
       "</div>"
      ],
      "text/plain": [
       "        recency   zip_code  is_referral       channel  conversion\n",
       "id                                                               \n",
       "906145       10  Surburban            0         Phone           0\n",
       "184478        6      Rural            1           Web           0\n",
       "394235        7  Surburban            1           Web           0\n",
       "130152        9      Rural            1           Web           0\n",
       "940352        2      Urban            0           Web           0\n",
       "...         ...        ...          ...           ...         ...\n",
       "838295       10      Urban            0           Web           0\n",
       "547316        5      Urban            1         Phone           0\n",
       "131575        6      Urban            1         Phone           0\n",
       "603659        1  Surburban            1  Multichannel           0\n",
       "254229        1  Surburban            0           Web           0\n",
       "\n",
       "[64000 rows x 5 columns]"
      ]
     },
     "execution_count": 11,
     "metadata": {},
     "output_type": "execute_result"
    }
   ],
   "source": [
    "member.set_index('id', inplace=True)\n",
    "member"
   ]
  },
  {
   "cell_type": "code",
   "execution_count": 12,
   "metadata": {},
   "outputs": [
    {
     "data": {
      "text/html": [
       "<div>\n",
       "<style scoped>\n",
       "    .dataframe tbody tr th:only-of-type {\n",
       "        vertical-align: middle;\n",
       "    }\n",
       "\n",
       "    .dataframe tbody tr th {\n",
       "        vertical-align: top;\n",
       "    }\n",
       "\n",
       "    .dataframe thead th {\n",
       "        text-align: right;\n",
       "    }\n",
       "</style>\n",
       "<table border=\"1\" class=\"dataframe\">\n",
       "  <thead>\n",
       "    <tr style=\"text-align: right;\">\n",
       "      <th></th>\n",
       "      <th>recency</th>\n",
       "      <th>zip_code</th>\n",
       "      <th>is_referral</th>\n",
       "      <th>channel</th>\n",
       "      <th>conversion</th>\n",
       "      <th>num_item</th>\n",
       "      <th>total_amount</th>\n",
       "      <th>avg_price</th>\n",
       "      <th>count</th>\n",
       "    </tr>\n",
       "    <tr>\n",
       "      <th>id</th>\n",
       "      <th></th>\n",
       "      <th></th>\n",
       "      <th></th>\n",
       "      <th></th>\n",
       "      <th></th>\n",
       "      <th></th>\n",
       "      <th></th>\n",
       "      <th></th>\n",
       "      <th></th>\n",
       "    </tr>\n",
       "  </thead>\n",
       "  <tbody>\n",
       "    <tr>\n",
       "      <th>906145</th>\n",
       "      <td>10</td>\n",
       "      <td>Surburban</td>\n",
       "      <td>0</td>\n",
       "      <td>Phone</td>\n",
       "      <td>0</td>\n",
       "      <td>3.333333</td>\n",
       "      <td>31333.333333</td>\n",
       "      <td>14016.666667</td>\n",
       "      <td>3</td>\n",
       "    </tr>\n",
       "    <tr>\n",
       "      <th>184478</th>\n",
       "      <td>6</td>\n",
       "      <td>Rural</td>\n",
       "      <td>1</td>\n",
       "      <td>Web</td>\n",
       "      <td>0</td>\n",
       "      <td>4.000000</td>\n",
       "      <td>29000.000000</td>\n",
       "      <td>7250.000000</td>\n",
       "      <td>1</td>\n",
       "    </tr>\n",
       "  </tbody>\n",
       "</table>\n",
       "</div>"
      ],
      "text/plain": [
       "        recency   zip_code  is_referral channel  conversion  num_item  \\\n",
       "id                                                                      \n",
       "906145       10  Surburban            0   Phone           0  3.333333   \n",
       "184478        6      Rural            1     Web           0  4.000000   \n",
       "\n",
       "        total_amount     avg_price  count  \n",
       "id                                         \n",
       "906145  31333.333333  14016.666667      3  \n",
       "184478  29000.000000   7250.000000      1  "
      ]
     },
     "execution_count": 12,
     "metadata": {},
     "output_type": "execute_result"
    }
   ],
   "source": [
    "df = pd.merge(member, tran, left_on='id', right_on='id')\n",
    "df.head(2)"
   ]
  },
  {
   "cell_type": "markdown",
   "metadata": {},
   "source": [
    "## Missing Value 처리"
   ]
  },
  {
   "cell_type": "code",
   "execution_count": 13,
   "metadata": {},
   "outputs": [
    {
     "data": {
      "text/plain": [
       "recency         0\n",
       "zip_code        0\n",
       "is_referral     0\n",
       "channel         0\n",
       "conversion      0\n",
       "num_item        0\n",
       "total_amount    0\n",
       "avg_price       0\n",
       "count           0\n",
       "dtype: int64"
      ]
     },
     "execution_count": 13,
     "metadata": {},
     "output_type": "execute_result"
    }
   ],
   "source": [
    "# csv 파일을 불러오면서 결측치가 없음을 확인했지만 한번 더 짚고 넘어가자\n",
    "df.isna().sum()"
   ]
  },
  {
   "cell_type": "markdown",
   "metadata": {},
   "source": [
    "## 카테고리 데이터 처리"
   ]
  },
  {
   "cell_type": "code",
   "execution_count": 14,
   "metadata": {},
   "outputs": [
    {
     "data": {
      "text/plain": [
       "zip_code    3\n",
       "channel     3\n",
       "dtype: int64"
      ]
     },
     "execution_count": 14,
     "metadata": {},
     "output_type": "execute_result"
    }
   ],
   "source": [
    "df[df.select_dtypes('object').columns].nunique()"
   ]
  },
  {
   "cell_type": "code",
   "execution_count": 15,
   "metadata": {},
   "outputs": [
    {
     "data": {
      "text/plain": [
       "array(['Surburban', 'Rural', 'Urban'], dtype=object)"
      ]
     },
     "execution_count": 15,
     "metadata": {},
     "output_type": "execute_result"
    }
   ],
   "source": [
    "df['zip_code'].unique()"
   ]
  },
  {
   "cell_type": "code",
   "execution_count": 16,
   "metadata": {},
   "outputs": [
    {
     "data": {
      "text/plain": [
       "array(['Phone', 'Web', 'Multichannel'], dtype=object)"
      ]
     },
     "execution_count": 16,
     "metadata": {},
     "output_type": "execute_result"
    }
   ],
   "source": [
    "df['channel'].unique()"
   ]
  },
  {
   "cell_type": "markdown",
   "metadata": {},
   "source": [
    "###### 병합해줘야 할 카테고리는 관측되지 않는 모습  \n",
    "###### 원핫인코딩으로 처리해 주자"
   ]
  },
  {
   "cell_type": "code",
   "execution_count": 17,
   "metadata": {},
   "outputs": [
    {
     "data": {
      "text/html": [
       "<div>\n",
       "<style scoped>\n",
       "    .dataframe tbody tr th:only-of-type {\n",
       "        vertical-align: middle;\n",
       "    }\n",
       "\n",
       "    .dataframe tbody tr th {\n",
       "        vertical-align: top;\n",
       "    }\n",
       "\n",
       "    .dataframe thead th {\n",
       "        text-align: right;\n",
       "    }\n",
       "</style>\n",
       "<table border=\"1\" class=\"dataframe\">\n",
       "  <thead>\n",
       "    <tr style=\"text-align: right;\">\n",
       "      <th></th>\n",
       "      <th>recency</th>\n",
       "      <th>is_referral</th>\n",
       "      <th>conversion</th>\n",
       "      <th>num_item</th>\n",
       "      <th>total_amount</th>\n",
       "      <th>avg_price</th>\n",
       "      <th>count</th>\n",
       "      <th>zip_code_Rural</th>\n",
       "      <th>zip_code_Surburban</th>\n",
       "      <th>zip_code_Urban</th>\n",
       "      <th>channel_Multichannel</th>\n",
       "      <th>channel_Phone</th>\n",
       "      <th>channel_Web</th>\n",
       "    </tr>\n",
       "    <tr>\n",
       "      <th>id</th>\n",
       "      <th></th>\n",
       "      <th></th>\n",
       "      <th></th>\n",
       "      <th></th>\n",
       "      <th></th>\n",
       "      <th></th>\n",
       "      <th></th>\n",
       "      <th></th>\n",
       "      <th></th>\n",
       "      <th></th>\n",
       "      <th></th>\n",
       "      <th></th>\n",
       "      <th></th>\n",
       "    </tr>\n",
       "  </thead>\n",
       "  <tbody>\n",
       "    <tr>\n",
       "      <th>906145</th>\n",
       "      <td>10</td>\n",
       "      <td>0</td>\n",
       "      <td>0</td>\n",
       "      <td>3.333333</td>\n",
       "      <td>31333.333333</td>\n",
       "      <td>14016.666667</td>\n",
       "      <td>3</td>\n",
       "      <td>False</td>\n",
       "      <td>True</td>\n",
       "      <td>False</td>\n",
       "      <td>False</td>\n",
       "      <td>True</td>\n",
       "      <td>False</td>\n",
       "    </tr>\n",
       "    <tr>\n",
       "      <th>184478</th>\n",
       "      <td>6</td>\n",
       "      <td>1</td>\n",
       "      <td>0</td>\n",
       "      <td>4.000000</td>\n",
       "      <td>29000.000000</td>\n",
       "      <td>7250.000000</td>\n",
       "      <td>1</td>\n",
       "      <td>True</td>\n",
       "      <td>False</td>\n",
       "      <td>False</td>\n",
       "      <td>False</td>\n",
       "      <td>False</td>\n",
       "      <td>True</td>\n",
       "    </tr>\n",
       "    <tr>\n",
       "      <th>394235</th>\n",
       "      <td>7</td>\n",
       "      <td>1</td>\n",
       "      <td>0</td>\n",
       "      <td>4.000000</td>\n",
       "      <td>20500.000000</td>\n",
       "      <td>5125.000000</td>\n",
       "      <td>2</td>\n",
       "      <td>False</td>\n",
       "      <td>True</td>\n",
       "      <td>False</td>\n",
       "      <td>False</td>\n",
       "      <td>False</td>\n",
       "      <td>True</td>\n",
       "    </tr>\n",
       "    <tr>\n",
       "      <th>130152</th>\n",
       "      <td>9</td>\n",
       "      <td>1</td>\n",
       "      <td>0</td>\n",
       "      <td>1.750000</td>\n",
       "      <td>20750.000000</td>\n",
       "      <td>14875.000000</td>\n",
       "      <td>4</td>\n",
       "      <td>True</td>\n",
       "      <td>False</td>\n",
       "      <td>False</td>\n",
       "      <td>False</td>\n",
       "      <td>False</td>\n",
       "      <td>True</td>\n",
       "    </tr>\n",
       "    <tr>\n",
       "      <th>940352</th>\n",
       "      <td>2</td>\n",
       "      <td>0</td>\n",
       "      <td>0</td>\n",
       "      <td>3.000000</td>\n",
       "      <td>31000.000000</td>\n",
       "      <td>10333.333333</td>\n",
       "      <td>1</td>\n",
       "      <td>False</td>\n",
       "      <td>False</td>\n",
       "      <td>True</td>\n",
       "      <td>False</td>\n",
       "      <td>False</td>\n",
       "      <td>True</td>\n",
       "    </tr>\n",
       "  </tbody>\n",
       "</table>\n",
       "</div>"
      ],
      "text/plain": [
       "        recency  is_referral  conversion  num_item  total_amount  \\\n",
       "id                                                                 \n",
       "906145       10            0           0  3.333333  31333.333333   \n",
       "184478        6            1           0  4.000000  29000.000000   \n",
       "394235        7            1           0  4.000000  20500.000000   \n",
       "130152        9            1           0  1.750000  20750.000000   \n",
       "940352        2            0           0  3.000000  31000.000000   \n",
       "\n",
       "           avg_price  count  zip_code_Rural  zip_code_Surburban  \\\n",
       "id                                                                \n",
       "906145  14016.666667      3           False                True   \n",
       "184478   7250.000000      1            True               False   \n",
       "394235   5125.000000      2           False                True   \n",
       "130152  14875.000000      4            True               False   \n",
       "940352  10333.333333      1           False               False   \n",
       "\n",
       "        zip_code_Urban  channel_Multichannel  channel_Phone  channel_Web  \n",
       "id                                                                        \n",
       "906145           False                 False           True        False  \n",
       "184478           False                 False          False         True  \n",
       "394235           False                 False          False         True  \n",
       "130152           False                 False          False         True  \n",
       "940352            True                 False          False         True  "
      ]
     },
     "execution_count": 17,
     "metadata": {},
     "output_type": "execute_result"
    }
   ],
   "source": [
    "df = pd.get_dummies(df, columns=['zip_code', 'channel'])\n",
    "df.head()"
   ]
  },
  {
   "cell_type": "markdown",
   "metadata": {},
   "source": [
    "## Random Forest Classifier 모델링 및 평가"
   ]
  },
  {
   "cell_type": "code",
   "execution_count": 18,
   "metadata": {},
   "outputs": [],
   "source": [
    "from sklearn.model_selection import train_test_split"
   ]
  },
  {
   "cell_type": "code",
   "execution_count": 19,
   "metadata": {},
   "outputs": [],
   "source": [
    "X = df.drop(columns='conversion', axis=1)\n",
    "y = df['conversion']"
   ]
  },
  {
   "cell_type": "code",
   "execution_count": 20,
   "metadata": {},
   "outputs": [],
   "source": [
    "X_train, X_test, y_train, y_test = train_test_split(X, y, test_size=0.3, random_state=1234)"
   ]
  },
  {
   "cell_type": "code",
   "execution_count": 21,
   "metadata": {},
   "outputs": [],
   "source": [
    "from sklearn.ensemble import RandomForestClassifier\n",
    "from sklearn.metrics import accuracy_score, roc_auc_score"
   ]
  },
  {
   "cell_type": "code",
   "execution_count": 22,
   "metadata": {},
   "outputs": [],
   "source": [
    "def getscore(model):\n",
    "    y_pred1 = model.predict(X_train)\n",
    "    y_pred2 = model.predict(X_test)\n",
    "    y_proba1 = model.predict_proba(X_train)[:, 1]\n",
    "    y_proba2 = model.predict_proba(X_test)[:, 1]\n",
    "    acc1, acc2 = accuracy_score(y_train, y_pred1), accuracy_score(y_test, y_pred2)\n",
    "    roc1, roc2 = roc_auc_score(y_train, y_proba1), roc_auc_score(y_test, y_proba2)\n",
    "    return f'acc: {acc1:.4f} {acc2:.4f} roc: {roc1:.4f} {roc2:.4f}'"
   ]
  },
  {
   "cell_type": "code",
   "execution_count": 23,
   "metadata": {},
   "outputs": [
    {
     "name": "stdout",
     "output_type": "stream",
     "text": [
      "2 : acc: 0.8531 0.8562 roc: 0.7594 0.7547\n",
      "3 : acc: 0.8588 0.8618 roc: 0.7663 0.7585\n",
      "4 : acc: 0.8588 0.8618 roc: 0.7762 0.7660\n",
      "5 : acc: 0.8588 0.8618 roc: 0.7834 0.7694\n",
      "6 : acc: 0.8591 0.8618 roc: 0.7842 0.7694\n",
      "7 : acc: 0.8605 0.8627 roc: 0.7919 0.7736\n",
      "8 : acc: 0.8645 0.8650 roc: 0.8016 0.7755\n",
      "9 : acc: 0.8680 0.8664 roc: 0.8128 0.7773\n",
      "10 : acc: 0.8735 0.8691 roc: 0.8288 0.7787\n",
      "11 : acc: 0.8782 0.8707 roc: 0.8494 0.7797\n",
      "12 : acc: 0.8823 0.8716 roc: 0.8788 0.7785\n",
      "13 : acc: 0.8899 0.8732 roc: 0.9114 0.7784\n",
      "14 : acc: 0.8964 0.8722 roc: 0.9407 0.7769\n",
      "15 : acc: 0.9059 0.8733 roc: 0.9689 0.7717\n",
      "16 : acc: 0.9160 0.8721 roc: 0.9865 0.7713\n",
      "17 : acc: 0.9314 0.8715 roc: 0.9955 0.7674\n",
      "18 : acc: 0.9448 0.8717 roc: 0.9986 0.7653\n",
      "19 : acc: 0.9641 0.8701 roc: 0.9998 0.7611\n"
     ]
    }
   ],
   "source": [
    "for i in range(2, 20):\n",
    "    model = RandomForestClassifier(max_depth=i).fit(X_train, y_train)\n",
    "    print(f'{i} : {getscore(model)}')"
   ]
  },
  {
   "cell_type": "markdown",
   "metadata": {},
   "source": [
    "###### max depth가 12~13인 구간에서 test set의 accuracy score에 큰 변화가 없고 roauc의 증가세도 꺾이는 모습\n",
    "###### max_depth=12를 가지는 최종 모델 선정"
   ]
  },
  {
   "cell_type": "code",
   "execution_count": 24,
   "metadata": {},
   "outputs": [],
   "source": [
    "fmodel = RandomForestClassifier(max_depth=12).fit(X_train, y_train)\n",
    "y_pred = model.predict(X_test)"
   ]
  },
  {
   "cell_type": "code",
   "execution_count": 25,
   "metadata": {},
   "outputs": [],
   "source": [
    "from sklearn.metrics import confusion_matrix, classification_report"
   ]
  },
  {
   "cell_type": "code",
   "execution_count": 26,
   "metadata": {},
   "outputs": [
    {
     "data": {
      "text/plain": [
       "array([[16148,   274],\n",
       "       [ 2221,   557]], dtype=int64)"
      ]
     },
     "execution_count": 26,
     "metadata": {},
     "output_type": "execute_result"
    }
   ],
   "source": [
    "confusion_matrix(y_test, y_pred)"
   ]
  },
  {
   "cell_type": "code",
   "execution_count": 27,
   "metadata": {},
   "outputs": [
    {
     "name": "stdout",
     "output_type": "stream",
     "text": [
      "              precision    recall  f1-score   support\n",
      "\n",
      "           0       0.88      0.98      0.93     16422\n",
      "           1       0.67      0.20      0.31      2778\n",
      "\n",
      "    accuracy                           0.87     19200\n",
      "   macro avg       0.77      0.59      0.62     19200\n",
      "weighted avg       0.85      0.87      0.84     19200\n",
      "\n"
     ]
    }
   ],
   "source": [
    "print(classification_report(y_test, y_pred))"
   ]
  },
  {
   "cell_type": "code",
   "execution_count": 28,
   "metadata": {},
   "outputs": [
    {
     "data": {
      "text/plain": [
       "conversion\n",
       "0    54606\n",
       "1     9394\n",
       "Name: count, dtype: int64"
      ]
     },
     "execution_count": 28,
     "metadata": {},
     "output_type": "execute_result"
    }
   ],
   "source": [
    "y.value_counts()"
   ]
  },
  {
   "cell_type": "markdown",
   "metadata": {},
   "source": [
    "###### 종속변수의 클래스 불균형 때문에 y=1인 경우에 예측성능이 상대적으로 낮게 나타나는 것으로 보인다. \n",
    "###### 오버샘플링을 통해 완화할 수 있는 문제로 판단됨. \n",
    "###### 당장 모델 튜닝보다는 classifier, regressor를 하나씩 만들어 보는게 중요하니 우선은 넘어가자"
   ]
  },
  {
   "cell_type": "markdown",
   "metadata": {},
   "source": [
    "## Random Forest Regressor 모델링 및 평가"
   ]
  },
  {
   "cell_type": "code",
   "execution_count": 29,
   "metadata": {},
   "outputs": [],
   "source": [
    "from sklearn.ensemble import RandomForestRegressor"
   ]
  },
  {
   "cell_type": "code",
   "execution_count": 40,
   "metadata": {},
   "outputs": [],
   "source": [
    "def conv(x):\n",
    "    return (1 if x >= 0.5 else 0)"
   ]
  },
  {
   "cell_type": "code",
   "execution_count": 58,
   "metadata": {},
   "outputs": [],
   "source": [
    "def getscore2(model):\n",
    "    y_pred1 = model.predict(X_train)\n",
    "    y_pred1 = [1 if x >= 0.5 else 0 for x in y_pred1]\n",
    "    y_pred2 = model.predict(X_test)\n",
    "    y_pred2 = [1 if x >= 0.5 else 0 for x in y_pred2]\n",
    "    acc1, acc2 = accuracy_score(y_train, y_pred1), accuracy_score(y_test, y_pred2)\n",
    "    return f'acc: {acc1:.4f} {acc2:.4f}'"
   ]
  },
  {
   "cell_type": "code",
   "execution_count": 59,
   "metadata": {},
   "outputs": [
    {
     "name": "stdout",
     "output_type": "stream",
     "text": [
      "2 : acc: 0.8588 0.8618\n",
      "3 : acc: 0.8588 0.8618\n",
      "4 : acc: 0.8639 0.8664\n",
      "5 : acc: 0.8648 0.8662\n",
      "6 : acc: 0.8706 0.8703\n",
      "7 : acc: 0.8742 0.8723\n",
      "8 : acc: 0.8766 0.8729\n",
      "9 : acc: 0.8799 0.8746\n",
      "10 : acc: 0.8828 0.8756\n",
      "11 : acc: 0.8874 0.8758\n",
      "12 : acc: 0.8919 0.8765\n",
      "13 : acc: 0.8975 0.8757\n",
      "14 : acc: 0.9032 0.8773\n",
      "15 : acc: 0.9129 0.8762\n",
      "16 : acc: 0.9238 0.8752\n",
      "17 : acc: 0.9352 0.8743\n",
      "18 : acc: 0.9497 0.8739\n",
      "19 : acc: 0.9663 0.8728\n"
     ]
    }
   ],
   "source": [
    "for i in range(2, 20):\n",
    "    model = RandomForestRegressor(max_depth=i).fit(X_train, y_train)\n",
    "    print(f'{i} : {getscore2(model)}')"
   ]
  },
  {
   "cell_type": "markdown",
   "metadata": {},
   "source": [
    "###### accuracy score 기준으로 train set과 test set에서의 성능이 0.87 정도로 준수한 i=9를 선택해 보자"
   ]
  },
  {
   "cell_type": "code",
   "execution_count": 65,
   "metadata": {},
   "outputs": [],
   "source": [
    "fmodel = RandomForestRegressor(max_depth=9).fit(X_train, y_train)\n",
    "y_temp = fmodel.predict(X_test)\n",
    "y_pred = [1 if x >= 0.5 else 0 for x in y_temp]"
   ]
  },
  {
   "cell_type": "code",
   "execution_count": 62,
   "metadata": {},
   "outputs": [
    {
     "data": {
      "text/plain": [
       "array([[16284,   138],\n",
       "       [ 2265,   513]], dtype=int64)"
      ]
     },
     "execution_count": 62,
     "metadata": {},
     "output_type": "execute_result"
    }
   ],
   "source": [
    "confusion_matrix(y_test, y_pred)"
   ]
  },
  {
   "cell_type": "code",
   "execution_count": 63,
   "metadata": {},
   "outputs": [
    {
     "name": "stdout",
     "output_type": "stream",
     "text": [
      "              precision    recall  f1-score   support\n",
      "\n",
      "           0       0.88      0.99      0.93     16422\n",
      "           1       0.79      0.18      0.30      2778\n",
      "\n",
      "    accuracy                           0.87     19200\n",
      "   macro avg       0.83      0.59      0.62     19200\n",
      "weighted avg       0.86      0.87      0.84     19200\n",
      "\n"
     ]
    }
   ],
   "source": [
    "print(classification_report(y_test, y_pred))"
   ]
  },
  {
   "cell_type": "code",
   "execution_count": 69,
   "metadata": {},
   "outputs": [],
   "source": [
    "# threshold 조절도 가능하다. \n",
    "y_pred_adj = [1 if x >= 0.65 else 0 for x in y_temp]"
   ]
  },
  {
   "cell_type": "code",
   "execution_count": 70,
   "metadata": {},
   "outputs": [
    {
     "name": "stdout",
     "output_type": "stream",
     "text": [
      "              precision    recall  f1-score   support\n",
      "\n",
      "           0       0.87      1.00      0.93     16422\n",
      "           1       0.88      0.14      0.24      2778\n",
      "\n",
      "    accuracy                           0.87     19200\n",
      "   macro avg       0.88      0.57      0.58     19200\n",
      "weighted avg       0.87      0.87      0.83     19200\n",
      "\n"
     ]
    }
   ],
   "source": [
    "print(classification_report(y_test, y_pred_adj))"
   ]
  },
  {
   "cell_type": "markdown",
   "metadata": {},
   "source": [
    "###### Threshold를 조정해 줌으로써 0과 1 두 클래스에서의 정밀도를 모두 챙긴 모습이다"
   ]
  }
 ],
 "metadata": {
  "kernelspec": {
   "display_name": "base",
   "language": "python",
   "name": "python3"
  },
  "language_info": {
   "codemirror_mode": {
    "name": "ipython",
    "version": 3
   },
   "file_extension": ".py",
   "mimetype": "text/x-python",
   "name": "python",
   "nbconvert_exporter": "python",
   "pygments_lexer": "ipython3",
   "version": "3.12.3"
  }
 },
 "nbformat": 4,
 "nbformat_minor": 2
}
